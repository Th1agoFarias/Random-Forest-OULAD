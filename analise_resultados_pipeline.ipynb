{
 "cells": [
  {
   "cell_type": "markdown",
   "id": "e285cf9b",
   "metadata": {},
   "source": [
    "# Análise dos Resultados do Pipeline\n",
    "\n",
    "Este notebook mostra os resultados do pipeline de machine learning."
   ]
  },
  {
   "cell_type": "code",
   "execution_count": null,
   "id": "50d04b56",
   "metadata": {},
   "outputs": [],
   "source": [
    "# Importações básicas\n",
    "import pandas as pd\n",
    "import numpy as np\n",
    "import matplotlib.pyplot as plt\n",
    "import seaborn as sns\n",
    "\n",
    "# Configuração do estilo dos gráficos\n",
    "plt.style.use('ggplot')\n",
    "sns.set(style=\"whitegrid\")"
   ]
  },
  {
   "cell_type": "code",
   "execution_count": null,
   "id": "29fe9851",
   "metadata": {},
   "outputs": [],
   "source": [
    "# Carrega os dados processados\n",
    "df = pd.read_csv('../data/student_data.csv')\n",
    "print(f\"Total de registros: {len(df)}\")\n",
    "df.head()"
   ]
  },
  {
   "cell_type": "code",
   "execution_count": null,
   "id": "f2b5def6",
   "metadata": {},
   "outputs": [],
   "source": [
    "# Validação de tipos e valores faltantes\n",
    "df.info()\n",
    "df.isnull().sum()"
   ]
  },
  {
   "cell_type": "code",
   "execution_count": null,
   "id": "dc874b63",
   "metadata": {},
   "outputs": [],
   "source": [
    "# Verifica a proporção dos resultados finais\n",
    "df['final_result'].value_counts(normalize=True).plot(kind='bar', title='Distribuição Proporcional dos Resultados')\n",
    "plt.show()"
   ]
  },
  {
   "cell_type": "code",
   "execution_count": null,
   "id": "1187d1a3",
   "metadata": {},
   "outputs": [],
   "source": [
    "# Análise da distribuição do resultado final\n",
    "plt.figure(figsize=(10, 6))\n",
    "sns.countplot(data=df, x='final_result')\n",
    "plt.title('Distribuição dos Resultados Finais')\n",
    "plt.xticks(rotation=45)\n",
    "plt.show()"
   ]
  },
  {
   "cell_type": "code",
   "execution_count": null,
   "id": "ccffa239",
   "metadata": {},
   "outputs": [],
   "source": [
    "# Análise de correlação entre features numéricas\n",
    "numeric_cols = df.select_dtypes(include=['int64', 'float64']).columns\n",
    "plt.figure(figsize=(12, 8))\n",
    "sns.heatmap(df[numeric_cols].corr(), annot=True, cmap='coolwarm')\n",
    "plt.title('Matriz de Correlação')\n",
    "plt.show()"
   ]
  },
  {
   "cell_type": "code",
   "execution_count": null,
   "id": "9e8d9bae",
   "metadata": {},
   "outputs": [],
   "source": [
    "# Análise de features categóricas\n",
    "categorical_cols = ['gender', 'region', 'highest_education', 'imd_band', 'age_band']\n",
    "\n",
    "for col in categorical_cols:\n",
    "    plt.figure(figsize=(10, 6))\n",
    "    sns.countplot(data=df, x=col, hue='final_result')\n",
    "    plt.title(f'Distribuição de {col} por Resultado Final')\n",
    "    plt.xticks(rotation=45)\n",
    "    plt.legend(title='Resultado Final')\n",
    "    plt.show()"
   ]
  },
  {
   "cell_type": "code",
   "execution_count": null,
   "id": "763369fe",
   "metadata": {},
   "outputs": [],
   "source": [
    "# Análise de métricas de performance\n",
    "from sklearn.metrics import classification_report, confusion_matrix, ConfusionMatrixDisplay\n",
    "import pickle\n",
    "\n",
    "# Carrega o modelo e preprocessor\n",
    "with open('../model/random_forest_model.pkl', 'rb') as f:\n",
    "    model = pickle.load(f)\n",
    "    \n",
    "with open('../model/preprocessor.pkl', 'rb') as f:\n",
    "    preprocessor = pickle.load(f)\n",
    "\n",
    "# Prepara os dados\n",
    "X = df.drop(columns=['final_result'])\n",
    "y = (df['final_result'] == 'Withdrawn').astype(int)\n",
    "\n",
    "# Transforma os dados\n",
    "X_transformed = preprocessor.transform(X)\n",
    "\n",
    "# Faz predições\n",
    "y_pred = model.predict(X_transformed)\n",
    "\n",
    "# Mostra o relatório de classificação\n",
    "print(classification_report(y, y_pred))\n",
    "\n",
    "# Mostra a matriz de confusão (visual)\n",
    "ConfusionMatrixDisplay.from_predictions(y, y_pred, display_labels=[\"Permanente\", \"Desistente\"])\n",
    "plt.title(\"Matriz de Confusão - Visual\")\n",
    "plt.show()"
   ]
  },
  {
   "cell_type": "code",
   "execution_count": null,
   "id": "c6163166",
   "metadata": {},
   "outputs": [],
   "source": [
    "# Análise de importância das features\n",
    "feature_names = preprocessor.get_feature_names_out()\n",
    "importances = model.feature_importances_\n",
    "\n",
    "# Cria um DataFrame com as importâncias\n",
    "feature_importance = pd.DataFrame({\n",
    "    'feature': feature_names,\n",
    "    'importance': importances\n",
    "}).sort_values('importance', ascending=False)\n",
    "\n",
    "# Plota as 20 features mais importantes\n",
    "plt.figure(figsize=(12, 8))\n",
    "sns.barplot(data=feature_importance.head(20), x='importance', y='feature')\n",
    "plt.title('Top 20 Features Mais Importantes')\n",
    "plt.show()"
   ]
  },
  {
   "cell_type": "code",
   "execution_count": null,
   "id": "baa8f821",
   "metadata": {},
   "outputs": [],
   "source": [
    "# Análise dos erros de predição\n",
    "df_errors = df.copy()\n",
    "df_errors['y_pred'] = y_pred\n",
    "df_errors['y_real'] = y.values\n",
    "erros = df_errors[df_errors['y_pred'] != df_errors['y_real']]\n",
    "erros.head()"
   ]
  }
 ],
 "metadata": {},
 "nbformat": 4,
 "nbformat_minor": 5
}
